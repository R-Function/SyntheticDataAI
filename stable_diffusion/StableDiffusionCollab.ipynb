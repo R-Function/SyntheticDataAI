{
  "nbformat": 4,
  "nbformat_minor": 0,
  "metadata": {
    "colab": {
      "provenance": [],
      "machine_shape": "hm",
      "gpuType": "A100"
    },
    "kernelspec": {
      "name": "python3",
      "display_name": "Python 3"
    },
    "language_info": {
      "name": "python"
    },
    "accelerator": "GPU"
  },
  "cells": [
    {
      "cell_type": "code",
      "source": [
        "!pip install diffusers transformers accelerate --quiet"
      ],
      "metadata": {
        "id": "hqeQbkEZ1zQI"
      },
      "execution_count": null,
      "outputs": []
    },
    {
      "cell_type": "code",
      "source": [
        "import torch\n",
        "from diffusers import StableDiffusionPipeline, LMSDiscreteScheduler\n",
        "\n",
        "model_id = \"runwayml/stable-diffusion-v1-5\"\n",
        "\n",
        "\n",
        "pipe = StableDiffusionPipeline.from_pretrained(model_id, torch_dtype=torch.float16)\n",
        "pipe.to(\"cuda\")\n",
        "\n",
        "pipe.scheduler = LMSDiscreteScheduler.from_config(pipe.scheduler.config)\n",
        "\n",
        "num_inference_steps = 75\n",
        "guidance_scale = 9.0\n",
        "width, height = 512, 512\n",
        "seed = 42\n",
        "\n",
        "generator = torch.Generator(\"cuda\").manual_seed(seed)\n",
        "negative_prompt = \"blurry, oversaturated, low resolution, deformed\""
      ],
      "metadata": {
        "id": "hxrtRCCh1zV4"
      },
      "execution_count": null,
      "outputs": []
    },
    {
      "cell_type": "code",
      "source": [
        "from google.colab import files\n",
        "import json\n",
        "\n",
        "\n",
        "uploaded = files.upload()\n",
        "\n",
        "with open(\"captions.json\", \"r\") as f:\n",
        "    data = json.load(f)\n",
        "\n",
        "caption_groups = data.get(\"image_captions\", [])\n",
        "print(f\"Found {len(caption_groups)} caption groups.\")"
      ],
      "metadata": {
        "id": "UGmc6U7_1zY_"
      },
      "execution_count": null,
      "outputs": []
    },
    {
      "cell_type": "code",
      "source": [
        "import os\n",
        "\n",
        "\n",
        "output_folder = \"generated_images\"\n",
        "\n",
        "\n",
        "if not os.path.exists(output_folder):\n",
        "    os.makedirs(output_folder)\n",
        "    print(f\"Created folder: {output_folder}\")\n",
        "\n",
        "\n",
        "for idx, group in enumerate(caption_groups):\n",
        "\n",
        "    if not isinstance(group, list):\n",
        "        print(f\"Skipping index {idx} as it is not a list of captions.\")\n",
        "        continue\n",
        "\n",
        "\n",
        "    prompt = \", \".join(group[:5])\n",
        "    print(f\"Generating image {idx} with prompt: {prompt}\")\n",
        "\n",
        "\n",
        "    result = pipe(\n",
        "        prompt=prompt,\n",
        "        negative_prompt=negative_prompt,\n",
        "        num_inference_steps=num_inference_steps,\n",
        "        guidance_scale=guidance_scale,\n",
        "        generator=generator,\n",
        "        width=width,\n",
        "        height=height\n",
        "    )\n",
        "    image = result.images[0]\n",
        "    local_filename = os.path.join(output_folder, f\"generated_image_{idx}.png\")\n",
        "    image.save(local_filename)\n",
        "    print(f\"Saved image {idx} as {local_filename}\")\n"
      ],
      "metadata": {
        "id": "jbqWwQpZavKk"
      },
      "execution_count": null,
      "outputs": []
    },
    {
      "cell_type": "code",
      "source": [
        "!zip -r generated_images_json.zip generated_images\n",
        "\n",
        "from google.colab import files\n",
        "files.download(\"generated_images_json.zip\")"
      ],
      "metadata": {
        "id": "TQTTwWXU1zti"
      },
      "execution_count": null,
      "outputs": []
    }
  ]
}